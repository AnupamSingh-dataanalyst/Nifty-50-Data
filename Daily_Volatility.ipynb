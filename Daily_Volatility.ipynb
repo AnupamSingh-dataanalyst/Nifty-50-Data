{
 "cells": [
  {
   "cell_type": "markdown",
   "metadata": {},
   "source": [
    "## Another way to check Daily Votality of Nifty 50 Stocks in 5 min with Python and Web scraping #Nifty50 Stocks- part 2\n",
    "\n",
    "#AUTHOR : Anupam Singh. His Area of Interest are - Exploratory Data Analysis, Mining Social Web\n",
    "\n",
    "#and Data Driven Problem Solving Approach\n",
    "\n",
    "#For Intraday Trading checking Daily votality is the first step. Excel' Vlook up is one of best option to find Nifty50 stocks,but this method in python saved my time to do daily repetitive task\n"
   ]
  },
  {
   "attachments": {
    "nifty50.png": {
     "image/png": "[encoded data removed]"
    },
    "wolf_qoute.jpg": {
     "image/jpeg": "[encoded data removed]"
    }
   },
   "cell_type": "markdown",
   "metadata": {},
   "source": [
    "![nifty50.png](attachment:nifty50.png)![wolf_qoute.jpg](attachment:wolf_qoute.jpg)"
   ]
  },
  {
   "cell_type": "markdown",
   "metadata": {},
   "source": []
  },
  {
   "cell_type": "code",
   "execution_count": 1,
   "metadata": {},
   "outputs": [
    {
     "name": "stdout",
     "output_type": "stream",
     "text": [
      " setup complete\n"
     ]
    }
   ],
   "source": [
    "#Downlaod these libraries from the Python Module as mention. I just put a command to print \" setup complete \" to notify when libraries get downlaoded.\n",
    "import pandas as pd\n",
    "import wget\n",
    "import numpy as np\n",
    "print(\" setup complete\")"
   ]
  },
  {
   "cell_type": "code",
   "execution_count": 11,
   "metadata": {},
   "outputs": [
    {
     "data": {
      "text/plain": [
       "['CMVOLT_25012021 (1).CSV']"
      ]
     },
     "execution_count": 11,
     "metadata": {},
     "output_type": "execute_result"
    }
   ],
   "source": [
    "#download raw data set # url of the raw csv dataset from nse website. The daily volatility file\n",
    "urls = ['https://www1.nseindia.com/archives/nsccl/volt/CMVOLT_25012021.CSV']\n",
    "\n",
    "[wget.download(url) for url in urls]\n"
   ]
  },
  {
   "cell_type": "code",
   "execution_count": 12,
   "metadata": {},
   "outputs": [],
   "source": [
    "# Loading Dataset to dataframe\n",
    "DV_df = pd.read_csv('CMVOLT_25012021.CSV')\n"
   ]
  },
  {
   "cell_type": "code",
   "execution_count": 13,
   "metadata": {
    "scrolled": true
   },
   "outputs": [
    {
     "data": {
      "text/html": [
       "<div>\n",
       "<style scoped>\n",
       "    .dataframe tbody tr th:only-of-type {\n",
       "        vertical-align: middle;\n",
       "    }\n",
       "\n",
       "    .dataframe tbody tr th {\n",
       "        vertical-align: top;\n",
       "    }\n",
       "\n",
       "    .dataframe thead th {\n",
       "        text-align: right;\n",
       "    }\n",
       "</style>\n",
       "<table border=\"1\" class=\"dataframe\">\n",
       "  <thead>\n",
       "    <tr style=\"text-align: right;\">\n",
       "      <th></th>\n",
       "      <th>Date</th>\n",
       "      <th>Symbol</th>\n",
       "      <th>Underlying Close Price (A)</th>\n",
       "      <th>Underlying Previous Day Close Price (B)</th>\n",
       "      <th>Underlying Log Returns (C) = LN(A/B)</th>\n",
       "      <th>Previous Day Underlying Volatility (D)</th>\n",
       "      <th>Current Day Underlying Daily Volatility (E) = Sqrt(0.995*D*D + 0.005*C*C)</th>\n",
       "      <th>Underlying Annualised Volatility (F) = E*Sqrt(365)</th>\n",
       "    </tr>\n",
       "  </thead>\n",
       "  <tbody>\n",
       "    <tr>\n",
       "      <th>0</th>\n",
       "      <td>25-JAN-2021</td>\n",
       "      <td>20MICRONS</td>\n",
       "      <td>36.85</td>\n",
       "      <td>37.60</td>\n",
       "      <td>-0.0201</td>\n",
       "      <td>0.0313</td>\n",
       "      <td>0.0312</td>\n",
       "      <td>0.5961</td>\n",
       "    </tr>\n",
       "    <tr>\n",
       "      <th>1</th>\n",
       "      <td>25-JAN-2021</td>\n",
       "      <td>21STCENMGM</td>\n",
       "      <td>10.95</td>\n",
       "      <td>11.15</td>\n",
       "      <td>-0.0181</td>\n",
       "      <td>0.0221</td>\n",
       "      <td>0.0220</td>\n",
       "      <td>0.4203</td>\n",
       "    </tr>\n",
       "    <tr>\n",
       "      <th>2</th>\n",
       "      <td>25-JAN-2021</td>\n",
       "      <td>3IINFOTECH</td>\n",
       "      <td>7.05</td>\n",
       "      <td>7.39</td>\n",
       "      <td>-0.0471</td>\n",
       "      <td>0.0402</td>\n",
       "      <td>0.0403</td>\n",
       "      <td>0.7699</td>\n",
       "    </tr>\n",
       "    <tr>\n",
       "      <th>3</th>\n",
       "      <td>25-JAN-2021</td>\n",
       "      <td>3MINDIA</td>\n",
       "      <td>20006.95</td>\n",
       "      <td>20475.15</td>\n",
       "      <td>-0.0231</td>\n",
       "      <td>0.0211</td>\n",
       "      <td>0.0211</td>\n",
       "      <td>0.4031</td>\n",
       "    </tr>\n",
       "    <tr>\n",
       "      <th>4</th>\n",
       "      <td>25-JAN-2021</td>\n",
       "      <td>3PLAND</td>\n",
       "      <td>9.95</td>\n",
       "      <td>9.60</td>\n",
       "      <td>0.0358</td>\n",
       "      <td>0.0660</td>\n",
       "      <td>0.0659</td>\n",
       "      <td>1.2590</td>\n",
       "    </tr>\n",
       "  </tbody>\n",
       "</table>\n",
       "</div>"
      ],
      "text/plain": [
       "          Date      Symbol Underlying Close Price (A)  \\\n",
       "0  25-JAN-2021   20MICRONS                      36.85   \n",
       "1  25-JAN-2021  21STCENMGM                      10.95   \n",
       "2  25-JAN-2021  3IINFOTECH                       7.05   \n",
       "3  25-JAN-2021     3MINDIA                   20006.95   \n",
       "4  25-JAN-2021      3PLAND                       9.95   \n",
       "\n",
       "  Underlying Previous Day Close Price (B)  \\\n",
       "0                                   37.60   \n",
       "1                                   11.15   \n",
       "2                                    7.39   \n",
       "3                                20475.15   \n",
       "4                                    9.60   \n",
       "\n",
       "  Underlying Log Returns (C) = LN(A/B) Previous Day Underlying Volatility (D)  \\\n",
       "0                              -0.0201                                 0.0313   \n",
       "1                              -0.0181                                 0.0221   \n",
       "2                              -0.0471                                 0.0402   \n",
       "3                              -0.0231                                 0.0211   \n",
       "4                               0.0358                                 0.0660   \n",
       "\n",
       "  Current Day Underlying Daily Volatility (E) = Sqrt(0.995*D*D + 0.005*C*C)  \\\n",
       "0                                             0.0312                          \n",
       "1                                             0.0220                          \n",
       "2                                             0.0403                          \n",
       "3                                             0.0211                          \n",
       "4                                             0.0659                          \n",
       "\n",
       "  Underlying Annualised Volatility (F) = E*Sqrt(365)  \n",
       "0                                             0.5961  \n",
       "1                                             0.4203  \n",
       "2                                             0.7699  \n",
       "3                                             0.4031  \n",
       "4                                             1.2590  "
      ]
     },
     "execution_count": 13,
     "metadata": {},
     "output_type": "execute_result"
    }
   ],
   "source": [
    "#To get glimse of downloaded data \n",
    "\n",
    "DV_df.head()"
   ]
  },
  {
   "cell_type": "code",
   "execution_count": 9,
   "metadata": {},
   "outputs": [
    {
     "data": {
      "text/plain": [
       "Index(['Date', 'Underlying Close Price (A)',\n",
       "       'Underlying Previous Day Close Price (B)',\n",
       "       'Underlying Log Returns (C) = LN(A/B)',\n",
       "       'Previous Day Underlying Volatility (D)', 'Daily_Volatility',\n",
       "       'Yearly_Volatility'],\n",
       "      dtype='object')"
      ]
     },
     "execution_count": 9,
     "metadata": {},
     "output_type": "execute_result"
    }
   ],
   "source": [
    "# To check what are the columns inside \n",
    "DV_df.columns\n"
   ]
  },
  {
   "cell_type": "code",
   "execution_count": 14,
   "metadata": {},
   "outputs": [
    {
     "data": {
      "text/html": [
       "<div>\n",
       "<style scoped>\n",
       "    .dataframe tbody tr th:only-of-type {\n",
       "        vertical-align: middle;\n",
       "    }\n",
       "\n",
       "    .dataframe tbody tr th {\n",
       "        vertical-align: top;\n",
       "    }\n",
       "\n",
       "    .dataframe thead th {\n",
       "        text-align: right;\n",
       "    }\n",
       "</style>\n",
       "<table border=\"1\" class=\"dataframe\">\n",
       "  <thead>\n",
       "    <tr style=\"text-align: right;\">\n",
       "      <th></th>\n",
       "      <th>Date</th>\n",
       "      <th>Symbol</th>\n",
       "      <th>Underlying Close Price (A)</th>\n",
       "      <th>Underlying Previous Day Close Price (B)</th>\n",
       "      <th>Underlying Log Returns (C) = LN(A/B)</th>\n",
       "      <th>Previous Day Underlying Volatility (D)</th>\n",
       "      <th>Daily_Volatility</th>\n",
       "      <th>Yearly_Volatility</th>\n",
       "    </tr>\n",
       "  </thead>\n",
       "  <tbody>\n",
       "    <tr>\n",
       "      <th>0</th>\n",
       "      <td>25-JAN-2021</td>\n",
       "      <td>20MICRONS</td>\n",
       "      <td>36.85</td>\n",
       "      <td>37.60</td>\n",
       "      <td>-0.0201</td>\n",
       "      <td>0.0313</td>\n",
       "      <td>0.0312</td>\n",
       "      <td>0.5961</td>\n",
       "    </tr>\n",
       "    <tr>\n",
       "      <th>1</th>\n",
       "      <td>25-JAN-2021</td>\n",
       "      <td>21STCENMGM</td>\n",
       "      <td>10.95</td>\n",
       "      <td>11.15</td>\n",
       "      <td>-0.0181</td>\n",
       "      <td>0.0221</td>\n",
       "      <td>0.0220</td>\n",
       "      <td>0.4203</td>\n",
       "    </tr>\n",
       "    <tr>\n",
       "      <th>2</th>\n",
       "      <td>25-JAN-2021</td>\n",
       "      <td>3IINFOTECH</td>\n",
       "      <td>7.05</td>\n",
       "      <td>7.39</td>\n",
       "      <td>-0.0471</td>\n",
       "      <td>0.0402</td>\n",
       "      <td>0.0403</td>\n",
       "      <td>0.7699</td>\n",
       "    </tr>\n",
       "    <tr>\n",
       "      <th>3</th>\n",
       "      <td>25-JAN-2021</td>\n",
       "      <td>3MINDIA</td>\n",
       "      <td>20006.95</td>\n",
       "      <td>20475.15</td>\n",
       "      <td>-0.0231</td>\n",
       "      <td>0.0211</td>\n",
       "      <td>0.0211</td>\n",
       "      <td>0.4031</td>\n",
       "    </tr>\n",
       "    <tr>\n",
       "      <th>4</th>\n",
       "      <td>25-JAN-2021</td>\n",
       "      <td>3PLAND</td>\n",
       "      <td>9.95</td>\n",
       "      <td>9.60</td>\n",
       "      <td>0.0358</td>\n",
       "      <td>0.0660</td>\n",
       "      <td>0.0659</td>\n",
       "      <td>1.2590</td>\n",
       "    </tr>\n",
       "  </tbody>\n",
       "</table>\n",
       "</div>"
      ],
      "text/plain": [
       "          Date      Symbol Underlying Close Price (A)  \\\n",
       "0  25-JAN-2021   20MICRONS                      36.85   \n",
       "1  25-JAN-2021  21STCENMGM                      10.95   \n",
       "2  25-JAN-2021  3IINFOTECH                       7.05   \n",
       "3  25-JAN-2021     3MINDIA                   20006.95   \n",
       "4  25-JAN-2021      3PLAND                       9.95   \n",
       "\n",
       "  Underlying Previous Day Close Price (B)  \\\n",
       "0                                   37.60   \n",
       "1                                   11.15   \n",
       "2                                    7.39   \n",
       "3                                20475.15   \n",
       "4                                    9.60   \n",
       "\n",
       "  Underlying Log Returns (C) = LN(A/B) Previous Day Underlying Volatility (D)  \\\n",
       "0                              -0.0201                                 0.0313   \n",
       "1                              -0.0181                                 0.0221   \n",
       "2                              -0.0471                                 0.0402   \n",
       "3                              -0.0231                                 0.0211   \n",
       "4                               0.0358                                 0.0660   \n",
       "\n",
       "  Daily_Volatility Yearly_Volatility  \n",
       "0           0.0312            0.5961  \n",
       "1           0.0220            0.4203  \n",
       "2           0.0403            0.7699  \n",
       "3           0.0211            0.4031  \n",
       "4           0.0659            1.2590  "
      ]
     },
     "execution_count": 14,
     "metadata": {},
     "output_type": "execute_result"
    }
   ],
   "source": [
    "# Now time for  some data wrangling. Convert naming  Daily Volatility & Annual Volatility Columns to Daily_Volatility & Yearly_Volatility for easyness.\n",
    "DV_df = DV_df.rename({\"Current Day Underlying Daily Volatility (E) = Sqrt(0.995*D*D + 0.005*C*C)\":\"Daily_Volatility\",\"Underlying Annualised Volatility (F) = E*Sqrt(365)\":\"Yearly_Volatility\",}, axis='columns')\n",
    "DV_df.head()"
   ]
  },
  {
   "cell_type": "code",
   "execution_count": 22,
   "metadata": {},
   "outputs": [],
   "source": [
    "# To select only columns which are needed to get daily volatility of any stock\n",
    "\n",
    "nifty=DV_df[[\"Symbol\",\"Daily_Volatility\",\"Yearly_Volatility\"]]"
   ]
  },
  {
   "cell_type": "code",
   "execution_count": 27,
   "metadata": {},
   "outputs": [
    {
     "name": "stdout",
     "output_type": "stream",
     "text": [
      "          Symbol Daily_Volatility Yearly_Volatility\n",
      "3849  TATAMOTORS           0.0362            0.6916\n",
      " This was our Objective\n"
     ]
    }
   ],
   "source": [
    "# The Final Step ! to extract the needed information \n",
    "DFA=nifty.Symbol.str.contains('TATAMOTORS')\n",
    "print(nifty[DFA])\n",
    "\n",
    "print(\" This was our Objective\")\n",
    "                         "
   ]
  },
  {
   "cell_type": "markdown",
   "metadata": {},
   "source": [
    "### VOILA! We got the daily volatility of TATAMOTORS! same way we have to jsut change name of stock script to get daily volatility .Thank you . See everyone again."
   ]
  }
 ],
 "metadata": {
  "kernelspec": {
   "display_name": "Python 3",
   "language": "python",
   "name": "python3"
  },
  "language_info": {
   "codemirror_mode": {
    "name": "ipython",
    "version": 3
   },
   "file_extension": ".py",
   "mimetype": "text/x-python",
   "name": "python",
   "nbconvert_exporter": "python",
   "pygments_lexer": "ipython3",
   "version": "3.7.3"
  }
 },
 "nbformat": 4,
 "nbformat_minor": 4
}
